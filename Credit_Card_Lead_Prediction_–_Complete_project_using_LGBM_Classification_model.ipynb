{
  "nbformat": 4,
  "nbformat_minor": 0,
  "metadata": {
    "colab": {
      "name": "Credit Card Lead Prediction – Complete project using LGBM Classification model.ipynb",
      "provenance": []
    },
    "kernelspec": {
      "name": "python3",
      "display_name": "Python 3"
    },
    "language_info": {
      "name": "python"
    }
  },
  "cells": [
    {
      "cell_type": "code",
      "metadata": {
        "id": "8NbW0TkKl77C"
      },
      "source": [
        "import numpy as np \n",
        "import pandas as pd \n",
        "import matplotlib.pyplot as plt\n",
        "import seaborn as sns"
      ],
      "execution_count": 2,
      "outputs": []
    },
    {
      "cell_type": "code",
      "metadata": {
        "id": "CxckPwaRmYEU"
      },
      "source": [
        "df_train=pd.read_csv(\"train.csv\")\n",
        "df_train[\"source\"]=\"train\"\n",
        "df_test=pd.read_csv(\"test.csv\")\n",
        "df_test[\"source\"]=\"test\"\n",
        "df=pd.concat([df_train,df_test],ignore_index=True)"
      ],
      "execution_count": 3,
      "outputs": []
    },
    {
      "cell_type": "code",
      "metadata": {
        "colab": {
          "base_uri": "https://localhost:8080/",
          "height": 203
        },
        "id": "sy5jC-h3nVPZ",
        "outputId": "435edc73-d188-4362-c206-2b17b4e23dc8"
      },
      "source": [
        "df.head()"
      ],
      "execution_count": 4,
      "outputs": [
        {
          "output_type": "execute_result",
          "data": {
            "text/html": [
              "<div>\n",
              "<style scoped>\n",
              "    .dataframe tbody tr th:only-of-type {\n",
              "        vertical-align: middle;\n",
              "    }\n",
              "\n",
              "    .dataframe tbody tr th {\n",
              "        vertical-align: top;\n",
              "    }\n",
              "\n",
              "    .dataframe thead th {\n",
              "        text-align: right;\n",
              "    }\n",
              "</style>\n",
              "<table border=\"1\" class=\"dataframe\">\n",
              "  <thead>\n",
              "    <tr style=\"text-align: right;\">\n",
              "      <th></th>\n",
              "      <th>ID</th>\n",
              "      <th>Gender</th>\n",
              "      <th>Age</th>\n",
              "      <th>Region_Code</th>\n",
              "      <th>Occupation</th>\n",
              "      <th>Channel_Code</th>\n",
              "      <th>Vintage</th>\n",
              "      <th>Credit_Product</th>\n",
              "      <th>Avg_Account_Balance</th>\n",
              "      <th>Is_Active</th>\n",
              "      <th>Is_Lead</th>\n",
              "      <th>source</th>\n",
              "    </tr>\n",
              "  </thead>\n",
              "  <tbody>\n",
              "    <tr>\n",
              "      <th>0</th>\n",
              "      <td>NNVBBKZB</td>\n",
              "      <td>Female</td>\n",
              "      <td>73</td>\n",
              "      <td>RG268</td>\n",
              "      <td>Other</td>\n",
              "      <td>X3</td>\n",
              "      <td>43</td>\n",
              "      <td>No</td>\n",
              "      <td>1045696</td>\n",
              "      <td>No</td>\n",
              "      <td>0.0</td>\n",
              "      <td>train</td>\n",
              "    </tr>\n",
              "    <tr>\n",
              "      <th>1</th>\n",
              "      <td>IDD62UNG</td>\n",
              "      <td>Female</td>\n",
              "      <td>30</td>\n",
              "      <td>RG277</td>\n",
              "      <td>Salaried</td>\n",
              "      <td>X1</td>\n",
              "      <td>32</td>\n",
              "      <td>No</td>\n",
              "      <td>581988</td>\n",
              "      <td>No</td>\n",
              "      <td>0.0</td>\n",
              "      <td>train</td>\n",
              "    </tr>\n",
              "    <tr>\n",
              "      <th>2</th>\n",
              "      <td>HD3DSEMC</td>\n",
              "      <td>Female</td>\n",
              "      <td>56</td>\n",
              "      <td>RG268</td>\n",
              "      <td>Self_Employed</td>\n",
              "      <td>X3</td>\n",
              "      <td>26</td>\n",
              "      <td>No</td>\n",
              "      <td>1484315</td>\n",
              "      <td>Yes</td>\n",
              "      <td>0.0</td>\n",
              "      <td>train</td>\n",
              "    </tr>\n",
              "    <tr>\n",
              "      <th>3</th>\n",
              "      <td>BF3NC7KV</td>\n",
              "      <td>Male</td>\n",
              "      <td>34</td>\n",
              "      <td>RG270</td>\n",
              "      <td>Salaried</td>\n",
              "      <td>X1</td>\n",
              "      <td>19</td>\n",
              "      <td>No</td>\n",
              "      <td>470454</td>\n",
              "      <td>No</td>\n",
              "      <td>0.0</td>\n",
              "      <td>train</td>\n",
              "    </tr>\n",
              "    <tr>\n",
              "      <th>4</th>\n",
              "      <td>TEASRWXV</td>\n",
              "      <td>Female</td>\n",
              "      <td>30</td>\n",
              "      <td>RG282</td>\n",
              "      <td>Salaried</td>\n",
              "      <td>X1</td>\n",
              "      <td>33</td>\n",
              "      <td>No</td>\n",
              "      <td>886787</td>\n",
              "      <td>No</td>\n",
              "      <td>0.0</td>\n",
              "      <td>train</td>\n",
              "    </tr>\n",
              "  </tbody>\n",
              "</table>\n",
              "</div>"
            ],
            "text/plain": [
              "         ID  Gender  Age  ... Is_Active Is_Lead source\n",
              "0  NNVBBKZB  Female   73  ...        No     0.0  train\n",
              "1  IDD62UNG  Female   30  ...        No     0.0  train\n",
              "2  HD3DSEMC  Female   56  ...       Yes     0.0  train\n",
              "3  BF3NC7KV    Male   34  ...        No     0.0  train\n",
              "4  TEASRWXV  Female   30  ...        No     0.0  train\n",
              "\n",
              "[5 rows x 12 columns]"
            ]
          },
          "metadata": {},
          "execution_count": 4
        }
      ]
    },
    {
      "cell_type": "code",
      "metadata": {
        "colab": {
          "base_uri": "https://localhost:8080/"
        },
        "id": "5D1hb2wcngUc",
        "outputId": "8766f4b1-35c1-4671-e912-194938d91520"
      },
      "source": [
        "df.shape"
      ],
      "execution_count": 5,
      "outputs": [
        {
          "output_type": "execute_result",
          "data": {
            "text/plain": [
              "(351037, 12)"
            ]
          },
          "metadata": {},
          "execution_count": 5
        }
      ]
    },
    {
      "cell_type": "code",
      "metadata": {
        "colab": {
          "base_uri": "https://localhost:8080/"
        },
        "id": "vLR4AISZniGJ",
        "outputId": "bed08b71-f165-492f-a2ce-57fa0b26bed0"
      },
      "source": [
        "df.isnull().sum()"
      ],
      "execution_count": 6,
      "outputs": [
        {
          "output_type": "execute_result",
          "data": {
            "text/plain": [
              "ID                          0\n",
              "Gender                      0\n",
              "Age                         0\n",
              "Region_Code                 0\n",
              "Occupation                  0\n",
              "Channel_Code                0\n",
              "Vintage                     0\n",
              "Credit_Product          41847\n",
              "Avg_Account_Balance         0\n",
              "Is_Active                   0\n",
              "Is_Lead                105312\n",
              "source                      0\n",
              "dtype: int64"
            ]
          },
          "metadata": {},
          "execution_count": 6
        }
      ]
    },
    {
      "cell_type": "code",
      "metadata": {
        "colab": {
          "base_uri": "https://localhost:8080/"
        },
        "id": "sEa9jDjdAs-p",
        "outputId": "7f107a90-33ab-4ea4-ac45-1b9b9c3fd44b"
      },
      "source": [
        "#Checking unique values \n",
        "df.nunique()"
      ],
      "execution_count": 13,
      "outputs": [
        {
          "output_type": "execute_result",
          "data": {
            "text/plain": [
              "ID                     351037\n",
              "Gender                      2\n",
              "Age                        63\n",
              "Region_Code                35\n",
              "Occupation                  4\n",
              "Channel_Code                4\n",
              "Vintage                    66\n",
              "Credit_Product              3\n",
              "Avg_Account_Balance    162137\n",
              "Is_Active                   2\n",
              "Is_Lead                     2\n",
              "source                      2\n",
              "dtype: int64"
            ]
          },
          "metadata": {},
          "execution_count": 13
        }
      ]
    },
    {
      "cell_type": "code",
      "metadata": {
        "id": "OQLsAQ4vnsNd"
      },
      "source": [
        "df['Credit_Product']= df['Credit_Product'].fillna(\"NA\")"
      ],
      "execution_count": 7,
      "outputs": []
    },
    {
      "cell_type": "code",
      "metadata": {
        "id": "f1B81YO4nuqn"
      },
      "source": [
        "#Changing Yes to 1 and No to 0 in Is_Active column to covert  data into float\n",
        "df[\"Is_Active\"].replace([\"Yes\",\"No\"],[1,0],inplace=True)\n",
        "df['Is_Active'] = df['Is_Active'].astype(float)"
      ],
      "execution_count": 8,
      "outputs": []
    },
    {
      "cell_type": "code",
      "metadata": {
        "colab": {
          "base_uri": "https://localhost:8080/",
          "height": 203
        },
        "id": "5l-kIYCwnxcN",
        "outputId": "0ea8e09c-8861-48ea-e243-53e079ad9139"
      },
      "source": [
        "df.head()"
      ],
      "execution_count": 9,
      "outputs": [
        {
          "output_type": "execute_result",
          "data": {
            "text/html": [
              "<div>\n",
              "<style scoped>\n",
              "    .dataframe tbody tr th:only-of-type {\n",
              "        vertical-align: middle;\n",
              "    }\n",
              "\n",
              "    .dataframe tbody tr th {\n",
              "        vertical-align: top;\n",
              "    }\n",
              "\n",
              "    .dataframe thead th {\n",
              "        text-align: right;\n",
              "    }\n",
              "</style>\n",
              "<table border=\"1\" class=\"dataframe\">\n",
              "  <thead>\n",
              "    <tr style=\"text-align: right;\">\n",
              "      <th></th>\n",
              "      <th>ID</th>\n",
              "      <th>Gender</th>\n",
              "      <th>Age</th>\n",
              "      <th>Region_Code</th>\n",
              "      <th>Occupation</th>\n",
              "      <th>Channel_Code</th>\n",
              "      <th>Vintage</th>\n",
              "      <th>Credit_Product</th>\n",
              "      <th>Avg_Account_Balance</th>\n",
              "      <th>Is_Active</th>\n",
              "      <th>Is_Lead</th>\n",
              "      <th>source</th>\n",
              "    </tr>\n",
              "  </thead>\n",
              "  <tbody>\n",
              "    <tr>\n",
              "      <th>0</th>\n",
              "      <td>NNVBBKZB</td>\n",
              "      <td>Female</td>\n",
              "      <td>73</td>\n",
              "      <td>RG268</td>\n",
              "      <td>Other</td>\n",
              "      <td>X3</td>\n",
              "      <td>43</td>\n",
              "      <td>No</td>\n",
              "      <td>1045696</td>\n",
              "      <td>0.0</td>\n",
              "      <td>0.0</td>\n",
              "      <td>train</td>\n",
              "    </tr>\n",
              "    <tr>\n",
              "      <th>1</th>\n",
              "      <td>IDD62UNG</td>\n",
              "      <td>Female</td>\n",
              "      <td>30</td>\n",
              "      <td>RG277</td>\n",
              "      <td>Salaried</td>\n",
              "      <td>X1</td>\n",
              "      <td>32</td>\n",
              "      <td>No</td>\n",
              "      <td>581988</td>\n",
              "      <td>0.0</td>\n",
              "      <td>0.0</td>\n",
              "      <td>train</td>\n",
              "    </tr>\n",
              "    <tr>\n",
              "      <th>2</th>\n",
              "      <td>HD3DSEMC</td>\n",
              "      <td>Female</td>\n",
              "      <td>56</td>\n",
              "      <td>RG268</td>\n",
              "      <td>Self_Employed</td>\n",
              "      <td>X3</td>\n",
              "      <td>26</td>\n",
              "      <td>No</td>\n",
              "      <td>1484315</td>\n",
              "      <td>1.0</td>\n",
              "      <td>0.0</td>\n",
              "      <td>train</td>\n",
              "    </tr>\n",
              "    <tr>\n",
              "      <th>3</th>\n",
              "      <td>BF3NC7KV</td>\n",
              "      <td>Male</td>\n",
              "      <td>34</td>\n",
              "      <td>RG270</td>\n",
              "      <td>Salaried</td>\n",
              "      <td>X1</td>\n",
              "      <td>19</td>\n",
              "      <td>No</td>\n",
              "      <td>470454</td>\n",
              "      <td>0.0</td>\n",
              "      <td>0.0</td>\n",
              "      <td>train</td>\n",
              "    </tr>\n",
              "    <tr>\n",
              "      <th>4</th>\n",
              "      <td>TEASRWXV</td>\n",
              "      <td>Female</td>\n",
              "      <td>30</td>\n",
              "      <td>RG282</td>\n",
              "      <td>Salaried</td>\n",
              "      <td>X1</td>\n",
              "      <td>33</td>\n",
              "      <td>No</td>\n",
              "      <td>886787</td>\n",
              "      <td>0.0</td>\n",
              "      <td>0.0</td>\n",
              "      <td>train</td>\n",
              "    </tr>\n",
              "  </tbody>\n",
              "</table>\n",
              "</div>"
            ],
            "text/plain": [
              "         ID  Gender  Age  ... Is_Active Is_Lead source\n",
              "0  NNVBBKZB  Female   73  ...       0.0     0.0  train\n",
              "1  IDD62UNG  Female   30  ...       0.0     0.0  train\n",
              "2  HD3DSEMC  Female   56  ...       1.0     0.0  train\n",
              "3  BF3NC7KV    Male   34  ...       0.0     0.0  train\n",
              "4  TEASRWXV  Female   30  ...       0.0     0.0  train\n",
              "\n",
              "[5 rows x 12 columns]"
            ]
          },
          "metadata": {},
          "execution_count": 9
        }
      ]
    },
    {
      "cell_type": "markdown",
      "metadata": {
        "id": "vUIS8_K7-3W7"
      },
      "source": [
        "Using Label Encoder"
      ]
    },
    {
      "cell_type": "code",
      "metadata": {
        "colab": {
          "base_uri": "https://localhost:8080/",
          "height": 203
        },
        "id": "HsAWc1om9_jR",
        "outputId": "50a3b206-8924-449f-8a05-d32918947178"
      },
      "source": [
        "#Creating list of categorical columns\n",
        "cat_col=[ 'Gender', 'Region_Code', 'Occupation','Channel_Code', 'Credit_Product']\n",
        "from sklearn.preprocessing import LabelEncoder\n",
        "le = LabelEncoder()       #creating instance\n",
        "for col in cat_col:\n",
        "  df[col]= le.fit_transform(df[col])\n",
        "df_2= df\n",
        "df_2.head()"
      ],
      "execution_count": 10,
      "outputs": [
        {
          "output_type": "execute_result",
          "data": {
            "text/html": [
              "<div>\n",
              "<style scoped>\n",
              "    .dataframe tbody tr th:only-of-type {\n",
              "        vertical-align: middle;\n",
              "    }\n",
              "\n",
              "    .dataframe tbody tr th {\n",
              "        vertical-align: top;\n",
              "    }\n",
              "\n",
              "    .dataframe thead th {\n",
              "        text-align: right;\n",
              "    }\n",
              "</style>\n",
              "<table border=\"1\" class=\"dataframe\">\n",
              "  <thead>\n",
              "    <tr style=\"text-align: right;\">\n",
              "      <th></th>\n",
              "      <th>ID</th>\n",
              "      <th>Gender</th>\n",
              "      <th>Age</th>\n",
              "      <th>Region_Code</th>\n",
              "      <th>Occupation</th>\n",
              "      <th>Channel_Code</th>\n",
              "      <th>Vintage</th>\n",
              "      <th>Credit_Product</th>\n",
              "      <th>Avg_Account_Balance</th>\n",
              "      <th>Is_Active</th>\n",
              "      <th>Is_Lead</th>\n",
              "      <th>source</th>\n",
              "    </tr>\n",
              "  </thead>\n",
              "  <tbody>\n",
              "    <tr>\n",
              "      <th>0</th>\n",
              "      <td>NNVBBKZB</td>\n",
              "      <td>0</td>\n",
              "      <td>73</td>\n",
              "      <td>18</td>\n",
              "      <td>1</td>\n",
              "      <td>2</td>\n",
              "      <td>43</td>\n",
              "      <td>1</td>\n",
              "      <td>1045696</td>\n",
              "      <td>0.0</td>\n",
              "      <td>0.0</td>\n",
              "      <td>train</td>\n",
              "    </tr>\n",
              "    <tr>\n",
              "      <th>1</th>\n",
              "      <td>IDD62UNG</td>\n",
              "      <td>0</td>\n",
              "      <td>30</td>\n",
              "      <td>27</td>\n",
              "      <td>2</td>\n",
              "      <td>0</td>\n",
              "      <td>32</td>\n",
              "      <td>1</td>\n",
              "      <td>581988</td>\n",
              "      <td>0.0</td>\n",
              "      <td>0.0</td>\n",
              "      <td>train</td>\n",
              "    </tr>\n",
              "    <tr>\n",
              "      <th>2</th>\n",
              "      <td>HD3DSEMC</td>\n",
              "      <td>0</td>\n",
              "      <td>56</td>\n",
              "      <td>18</td>\n",
              "      <td>3</td>\n",
              "      <td>2</td>\n",
              "      <td>26</td>\n",
              "      <td>1</td>\n",
              "      <td>1484315</td>\n",
              "      <td>1.0</td>\n",
              "      <td>0.0</td>\n",
              "      <td>train</td>\n",
              "    </tr>\n",
              "    <tr>\n",
              "      <th>3</th>\n",
              "      <td>BF3NC7KV</td>\n",
              "      <td>1</td>\n",
              "      <td>34</td>\n",
              "      <td>20</td>\n",
              "      <td>2</td>\n",
              "      <td>0</td>\n",
              "      <td>19</td>\n",
              "      <td>1</td>\n",
              "      <td>470454</td>\n",
              "      <td>0.0</td>\n",
              "      <td>0.0</td>\n",
              "      <td>train</td>\n",
              "    </tr>\n",
              "    <tr>\n",
              "      <th>4</th>\n",
              "      <td>TEASRWXV</td>\n",
              "      <td>0</td>\n",
              "      <td>30</td>\n",
              "      <td>32</td>\n",
              "      <td>2</td>\n",
              "      <td>0</td>\n",
              "      <td>33</td>\n",
              "      <td>1</td>\n",
              "      <td>886787</td>\n",
              "      <td>0.0</td>\n",
              "      <td>0.0</td>\n",
              "      <td>train</td>\n",
              "    </tr>\n",
              "  </tbody>\n",
              "</table>\n",
              "</div>"
            ],
            "text/plain": [
              "         ID  Gender  Age  ...  Is_Active  Is_Lead  source\n",
              "0  NNVBBKZB       0   73  ...        0.0      0.0   train\n",
              "1  IDD62UNG       0   30  ...        0.0      0.0   train\n",
              "2  HD3DSEMC       0   56  ...        1.0      0.0   train\n",
              "3  BF3NC7KV       1   34  ...        0.0      0.0   train\n",
              "4  TEASRWXV       0   30  ...        0.0      0.0   train\n",
              "\n",
              "[5 rows x 12 columns]"
            ]
          },
          "metadata": {},
          "execution_count": 10
        }
      ]
    },
    {
      "cell_type": "markdown",
      "metadata": {
        "id": "pQ1A2Wfz_CTG"
      },
      "source": [
        "Data Visualization"
      ]
    },
    {
      "cell_type": "code",
      "metadata": {
        "colab": {
          "base_uri": "https://localhost:8080/",
          "height": 333
        },
        "id": "q-HCrgeIBDac",
        "outputId": "d65e66d6-d024-4cc9-de4c-48a74d26a7c9"
      },
      "source": [
        "sns.distplot(df['Age']);"
      ],
      "execution_count": 17,
      "outputs": [
        {
          "output_type": "stream",
          "name": "stderr",
          "text": [
            "/usr/local/lib/python3.7/dist-packages/seaborn/distributions.py:2619: FutureWarning: `distplot` is a deprecated function and will be removed in a future version. Please adapt your code to use either `displot` (a figure-level function with similar flexibility) or `histplot` (an axes-level function for histograms).\n",
            "  warnings.warn(msg, FutureWarning)\n"
          ]
        },
        {
          "output_type": "display_data",
          "data": {
            "image/png": "[encoded data removed]",
            "text/plain": [
              "<Figure size 432x288 with 1 Axes>"
            ]
          },
          "metadata": {
            "needs_background": "light"
          }
        }
      ]
    },
    {
      "cell_type": "code",
      "metadata": {
        "colab": {
          "base_uri": "https://localhost:8080/",
          "height": 345
        },
        "id": "8SOdwfz8BKAU",
        "outputId": "468aa0fc-7cb5-49e1-b1e8-0fd7b58d3df3"
      },
      "source": [
        "sns.distplot(df['Avg_Account_Balance'])\n",
        "plt.show()"
      ],
      "execution_count": 18,
      "outputs": [
        {
          "output_type": "stream",
          "name": "stderr",
          "text": [
            "/usr/local/lib/python3.7/dist-packages/seaborn/distributions.py:2619: FutureWarning: `distplot` is a deprecated function and will be removed in a future version. Please adapt your code to use either `displot` (a figure-level function with similar flexibility) or `histplot` (an axes-level function for histograms).\n",
            "  warnings.warn(msg, FutureWarning)\n"
          ]
        },
        {
          "output_type": "display_data",
          "data": {
            "image/png": "[encoded data removed]",
            "text/plain": [
              "<Figure size 432x288 with 1 Axes>"
            ]
          },
          "metadata": {
            "needs_background": "light"
          }
        }
      ]
    },
    {
      "cell_type": "code",
      "metadata": {
        "colab": {
          "base_uri": "https://localhost:8080/",
          "height": 336
        },
        "id": "oFbqIsJcBOHg",
        "outputId": "1b42c209-d58a-4f5a-8089-2889f2812242"
      },
      "source": [
        "#Countplot for Gender feature \n",
        "plt.figure(figsize=(8,4))\n",
        "sns.countplot(df['Gender'],palette='Accent')\n",
        "plt.show()"
      ],
      "execution_count": 19,
      "outputs": [
        {
          "output_type": "stream",
          "name": "stderr",
          "text": [
            "/usr/local/lib/python3.7/dist-packages/seaborn/_decorators.py:43: FutureWarning: Pass the following variable as a keyword arg: x. From version 0.12, the only valid positional argument will be `data`, and passing other arguments without an explicit keyword will result in an error or misinterpretation.\n",
            "  FutureWarning\n"
          ]
        },
        {
          "output_type": "display_data",
          "data": {
            "image/png": "[encoded data removed]",
            "text/plain": [
              "<Figure size 576x288 with 1 Axes>"
            ]
          },
          "metadata": {
            "needs_background": "light"
          }
        }
      ]
    },
    {
      "cell_type": "code",
      "metadata": {
        "colab": {
          "base_uri": "https://localhost:8080/",
          "height": 384
        },
        "id": "nOSR0DYyBPaF",
        "outputId": "1f356d28-4d99-4c2f-b56c-ea8973d06737"
      },
      "source": [
        "#Countplot for Target variable i.e 'Is_Lead'\n",
        "target = 'Is_Lead'\n",
        "plt.figure(figsize=(8,4))\n",
        "sns.countplot(df[target],palette='hls')\n",
        "print(df[target].value_counts())"
      ],
      "execution_count": 20,
      "outputs": [
        {
          "output_type": "stream",
          "name": "stderr",
          "text": [
            "/usr/local/lib/python3.7/dist-packages/seaborn/_decorators.py:43: FutureWarning: Pass the following variable as a keyword arg: x. From version 0.12, the only valid positional argument will be `data`, and passing other arguments without an explicit keyword will result in an error or misinterpretation.\n",
            "  FutureWarning\n"
          ]
        },
        {
          "output_type": "stream",
          "name": "stdout",
          "text": [
            "0.0    187437\n",
            "1.0     58288\n",
            "Name: Is_Lead, dtype: int64\n"
          ]
        },
        {
          "output_type": "display_data",
          "data": {
            "image/png": "[encoded data removed]",
            "text/plain": [
              "<Figure size 576x288 with 1 Axes>"
            ]
          },
          "metadata": {
            "needs_background": "light"
          }
        }
      ]
    },
    {
      "cell_type": "markdown",
      "metadata": {
        "id": "r_COjiKaBYtH"
      },
      "source": [
        "Bivariate Analysis"
      ]
    },
    {
      "cell_type": "code",
      "metadata": {
        "colab": {
          "base_uri": "https://localhost:8080/",
          "height": 279
        },
        "id": "vnF4F6zgBU5T",
        "outputId": "14c4b760-7273-4bf5-a682-e9948bdafd6b"
      },
      "source": [
        "#Checking occupation with customers\n",
        "plt.figure(figsize=(8,4))\n",
        "sns.countplot(x='Occupation',hue='Is_Lead',data=df,palette= 'magma')\n",
        "plt.show()"
      ],
      "execution_count": 21,
      "outputs": [
        {
          "output_type": "display_data",
          "data": {
            "image/png": "[encoded data removed]",
            "text/plain": [
              "<Figure size 576x288 with 1 Axes>"
            ]
          },
          "metadata": {
            "needs_background": "light"
          }
        }
      ]
    },
    {
      "cell_type": "code",
      "metadata": {
        "colab": {
          "base_uri": "https://localhost:8080/",
          "height": 386
        },
        "id": "wMBAYo05Bh90",
        "outputId": "7b67748c-59e4-4b03-e891-e85257bb49dc"
      },
      "source": [
        "#Plot showing Activness of customer in last 3 months with respect to Occupation of customer\n",
        "plt.figure(figsize=(8,4))\n",
        "sns.catplot(y='Age',x='Occupation',hue='Is_Active',data=df,kind='bar',palette='Oranges')\n",
        "plt.show()"
      ],
      "execution_count": 22,
      "outputs": [
        {
          "output_type": "display_data",
          "data": {
            "text/plain": [
              "<Figure size 576x288 with 0 Axes>"
            ]
          },
          "metadata": {}
        },
        {
          "output_type": "display_data",
          "data": {
            "image/png": "[encoded data removed]",
            "text/plain": [
              "<Figure size 412.125x360 with 1 Axes>"
            ]
          },
          "metadata": {
            "needs_background": "light"
          }
        }
      ]
    },
    {
      "cell_type": "markdown",
      "metadata": {
        "id": "3HSzbgIaBrwG"
      },
      "source": [
        "Data Preparation"
      ]
    },
    {
      "cell_type": "code",
      "metadata": {
        "colab": {
          "base_uri": "https://localhost:8080/"
        },
        "id": "PhZPMMJbBsrl",
        "outputId": "59678b5e-8b0f-4bf3-f1d4-892fd8587c7c"
      },
      "source": [
        "# To balance the dataset , we will apply undersampling method\n",
        "from sklearn.utils import resample\n",
        "# separate the minority and majority classes\n",
        "df_majority = df_1[df_1['Is_Lead']==0]\n",
        "df_minority = df_1[df_1['Is_Lead']==1]\n",
        "\n",
        "print(\" The majority class values are\", len(df_majority))\n",
        "print(\" The minority class values are\", len(df_minority))\n",
        "print(\" The ratio of both classes are\", len(df_majority)/len(df_minority))"
      ],
      "execution_count": 23,
      "outputs": [
        {
          "output_type": "stream",
          "name": "stdout",
          "text": [
            " The majority class values are 187437\n",
            " The minority class values are 58288\n",
            " The ratio of both classes are 3.215704776283283\n"
          ]
        }
      ]
    },
    {
      "cell_type": "code",
      "metadata": {
        "colab": {
          "base_uri": "https://localhost:8080/"
        },
        "id": "O5c6p1LEBkhx",
        "outputId": "fde0920d-41a7-42e4-838f-d419cfc19518"
      },
      "source": [
        "# undersample majority class\n",
        "df_majority_undersampled = resample(df_majority, replace=True, n_samples=len(df_minority), random_state=0)\n",
        "# combine minority class with oversampled majority class\n",
        "df_undersampled = pd.concat([df_minority, df_majority_undersampled])\n",
        "\n",
        "df_undersampled['Is_Lead'].value_counts()\n",
        "df_1=df_undersampled\n",
        "\n",
        "# display new class value counts\n",
        "print(\" The undersamples class values count is:\", len(df_undersampled))\n",
        "print(\" The ratio of both classes are\", len(df_undersampled[df_undersampled[\"Is_Lead\"]==0])/len(df_undersampled[df_undersampled[\"Is_Lead\"]==1]))"
      ],
      "execution_count": 24,
      "outputs": [
        {
          "output_type": "stream",
          "name": "stdout",
          "text": [
            " The undersamples class values count is: 116576\n",
            " The ratio of both classes are 1.0\n"
          ]
        }
      ]
    },
    {
      "cell_type": "code",
      "metadata": {
        "id": "HoP4U-HCB2qk"
      },
      "source": [
        "# dropping target variable \n",
        "#assign the value of y for training and testing phase\n",
        "xc = df_1.drop(columns=['Is_Lead'])\n",
        "yc = df_1[[\"Is_Lead\"]]"
      ],
      "execution_count": 25,
      "outputs": []
    },
    {
      "cell_type": "code",
      "metadata": {
        "colab": {
          "base_uri": "https://localhost:8080/",
          "height": 203
        },
        "id": "nhPuNCDrCu6u",
        "outputId": "9560d56c-3313-463a-fc45-73edc4ab1104"
      },
      "source": [
        "df_1.head()"
      ],
      "execution_count": 26,
      "outputs": [
        {
          "output_type": "execute_result",
          "data": {
            "text/html": [
              "<div>\n",
              "<style scoped>\n",
              "    .dataframe tbody tr th:only-of-type {\n",
              "        vertical-align: middle;\n",
              "    }\n",
              "\n",
              "    .dataframe tbody tr th {\n",
              "        vertical-align: top;\n",
              "    }\n",
              "\n",
              "    .dataframe thead th {\n",
              "        text-align: right;\n",
              "    }\n",
              "</style>\n",
              "<table border=\"1\" class=\"dataframe\">\n",
              "  <thead>\n",
              "    <tr style=\"text-align: right;\">\n",
              "      <th></th>\n",
              "      <th>Gender</th>\n",
              "      <th>Age</th>\n",
              "      <th>Region_Code</th>\n",
              "      <th>Occupation</th>\n",
              "      <th>Channel_Code</th>\n",
              "      <th>Vintage</th>\n",
              "      <th>Credit_Product</th>\n",
              "      <th>Avg_Account_Balance</th>\n",
              "      <th>Is_Active</th>\n",
              "      <th>Is_Lead</th>\n",
              "    </tr>\n",
              "  </thead>\n",
              "  <tbody>\n",
              "    <tr>\n",
              "      <th>6</th>\n",
              "      <td>1</td>\n",
              "      <td>62</td>\n",
              "      <td>32</td>\n",
              "      <td>1</td>\n",
              "      <td>2</td>\n",
              "      <td>20</td>\n",
              "      <td>0</td>\n",
              "      <td>1056750</td>\n",
              "      <td>1.0</td>\n",
              "      <td>1.0</td>\n",
              "    </tr>\n",
              "    <tr>\n",
              "      <th>15</th>\n",
              "      <td>1</td>\n",
              "      <td>33</td>\n",
              "      <td>18</td>\n",
              "      <td>3</td>\n",
              "      <td>1</td>\n",
              "      <td>69</td>\n",
              "      <td>0</td>\n",
              "      <td>517063</td>\n",
              "      <td>1.0</td>\n",
              "      <td>1.0</td>\n",
              "    </tr>\n",
              "    <tr>\n",
              "      <th>16</th>\n",
              "      <td>0</td>\n",
              "      <td>46</td>\n",
              "      <td>18</td>\n",
              "      <td>1</td>\n",
              "      <td>2</td>\n",
              "      <td>97</td>\n",
              "      <td>2</td>\n",
              "      <td>2282502</td>\n",
              "      <td>0.0</td>\n",
              "      <td>1.0</td>\n",
              "    </tr>\n",
              "    <tr>\n",
              "      <th>17</th>\n",
              "      <td>0</td>\n",
              "      <td>59</td>\n",
              "      <td>33</td>\n",
              "      <td>1</td>\n",
              "      <td>2</td>\n",
              "      <td>15</td>\n",
              "      <td>2</td>\n",
              "      <td>2384692</td>\n",
              "      <td>0.0</td>\n",
              "      <td>1.0</td>\n",
              "    </tr>\n",
              "    <tr>\n",
              "      <th>20</th>\n",
              "      <td>1</td>\n",
              "      <td>44</td>\n",
              "      <td>19</td>\n",
              "      <td>3</td>\n",
              "      <td>1</td>\n",
              "      <td>19</td>\n",
              "      <td>2</td>\n",
              "      <td>1001650</td>\n",
              "      <td>0.0</td>\n",
              "      <td>1.0</td>\n",
              "    </tr>\n",
              "  </tbody>\n",
              "</table>\n",
              "</div>"
            ],
            "text/plain": [
              "    Gender  Age  Region_Code  ...  Avg_Account_Balance  Is_Active  Is_Lead\n",
              "6        1   62           32  ...              1056750        1.0      1.0\n",
              "15       1   33           18  ...               517063        1.0      1.0\n",
              "16       0   46           18  ...              2282502        0.0      1.0\n",
              "17       0   59           33  ...              2384692        0.0      1.0\n",
              "20       1   44           19  ...              1001650        0.0      1.0\n",
              "\n",
              "[5 rows x 10 columns]"
            ]
          },
          "metadata": {},
          "execution_count": 26
        }
      ]
    },
    {
      "cell_type": "markdown",
      "metadata": {
        "id": "t3uA7kxX_mqv"
      },
      "source": [
        "Data Preparation for Credit Card Lead Prediction"
      ]
    },
    {
      "cell_type": "code",
      "metadata": {
        "colab": {
          "base_uri": "https://localhost:8080/",
          "height": 203
        },
        "id": "N91an5-I_DS1",
        "outputId": "7fbde0ea-df4f-4abb-8d5a-cc2f4325585a"
      },
      "source": [
        "#Now changing all categorical column into numerical form using label endcoding\n",
        "cat_col=[ 'Gender', 'Region_Code', 'Occupation','Channel_Code', 'Credit_Product']\n",
        "\n",
        "from sklearn.preprocessing import LabelEncoder\n",
        "le = LabelEncoder()\n",
        "for col in cat_col:\n",
        "  df[col]= le.fit_transform(df[col])\n",
        "\n",
        "\n",
        "df_2= df\n",
        "df_2.head()"
      ],
      "execution_count": 14,
      "outputs": [
        {
          "output_type": "execute_result",
          "data": {
            "text/html": [
              "<div>\n",
              "<style scoped>\n",
              "    .dataframe tbody tr th:only-of-type {\n",
              "        vertical-align: middle;\n",
              "    }\n",
              "\n",
              "    .dataframe tbody tr th {\n",
              "        vertical-align: top;\n",
              "    }\n",
              "\n",
              "    .dataframe thead th {\n",
              "        text-align: right;\n",
              "    }\n",
              "</style>\n",
              "<table border=\"1\" class=\"dataframe\">\n",
              "  <thead>\n",
              "    <tr style=\"text-align: right;\">\n",
              "      <th></th>\n",
              "      <th>ID</th>\n",
              "      <th>Gender</th>\n",
              "      <th>Age</th>\n",
              "      <th>Region_Code</th>\n",
              "      <th>Occupation</th>\n",
              "      <th>Channel_Code</th>\n",
              "      <th>Vintage</th>\n",
              "      <th>Credit_Product</th>\n",
              "      <th>Avg_Account_Balance</th>\n",
              "      <th>Is_Active</th>\n",
              "      <th>Is_Lead</th>\n",
              "      <th>source</th>\n",
              "    </tr>\n",
              "  </thead>\n",
              "  <tbody>\n",
              "    <tr>\n",
              "      <th>0</th>\n",
              "      <td>NNVBBKZB</td>\n",
              "      <td>0</td>\n",
              "      <td>73</td>\n",
              "      <td>18</td>\n",
              "      <td>1</td>\n",
              "      <td>2</td>\n",
              "      <td>43</td>\n",
              "      <td>1</td>\n",
              "      <td>1045696</td>\n",
              "      <td>0.0</td>\n",
              "      <td>0.0</td>\n",
              "      <td>train</td>\n",
              "    </tr>\n",
              "    <tr>\n",
              "      <th>1</th>\n",
              "      <td>IDD62UNG</td>\n",
              "      <td>0</td>\n",
              "      <td>30</td>\n",
              "      <td>27</td>\n",
              "      <td>2</td>\n",
              "      <td>0</td>\n",
              "      <td>32</td>\n",
              "      <td>1</td>\n",
              "      <td>581988</td>\n",
              "      <td>0.0</td>\n",
              "      <td>0.0</td>\n",
              "      <td>train</td>\n",
              "    </tr>\n",
              "    <tr>\n",
              "      <th>2</th>\n",
              "      <td>HD3DSEMC</td>\n",
              "      <td>0</td>\n",
              "      <td>56</td>\n",
              "      <td>18</td>\n",
              "      <td>3</td>\n",
              "      <td>2</td>\n",
              "      <td>26</td>\n",
              "      <td>1</td>\n",
              "      <td>1484315</td>\n",
              "      <td>1.0</td>\n",
              "      <td>0.0</td>\n",
              "      <td>train</td>\n",
              "    </tr>\n",
              "    <tr>\n",
              "      <th>3</th>\n",
              "      <td>BF3NC7KV</td>\n",
              "      <td>1</td>\n",
              "      <td>34</td>\n",
              "      <td>20</td>\n",
              "      <td>2</td>\n",
              "      <td>0</td>\n",
              "      <td>19</td>\n",
              "      <td>1</td>\n",
              "      <td>470454</td>\n",
              "      <td>0.0</td>\n",
              "      <td>0.0</td>\n",
              "      <td>train</td>\n",
              "    </tr>\n",
              "    <tr>\n",
              "      <th>4</th>\n",
              "      <td>TEASRWXV</td>\n",
              "      <td>0</td>\n",
              "      <td>30</td>\n",
              "      <td>32</td>\n",
              "      <td>2</td>\n",
              "      <td>0</td>\n",
              "      <td>33</td>\n",
              "      <td>1</td>\n",
              "      <td>886787</td>\n",
              "      <td>0.0</td>\n",
              "      <td>0.0</td>\n",
              "      <td>train</td>\n",
              "    </tr>\n",
              "  </tbody>\n",
              "</table>\n",
              "</div>"
            ],
            "text/plain": [
              "         ID  Gender  Age  ...  Is_Active  Is_Lead  source\n",
              "0  NNVBBKZB       0   73  ...        0.0      0.0   train\n",
              "1  IDD62UNG       0   30  ...        0.0      0.0   train\n",
              "2  HD3DSEMC       0   56  ...        1.0      0.0   train\n",
              "3  BF3NC7KV       1   34  ...        0.0      0.0   train\n",
              "4  TEASRWXV       0   30  ...        0.0      0.0   train\n",
              "\n",
              "[5 rows x 12 columns]"
            ]
          },
          "metadata": {},
          "execution_count": 14
        }
      ]
    },
    {
      "cell_type": "code",
      "metadata": {
        "id": "ZNAqU3fmA2ib"
      },
      "source": [
        "#Separating the train and test\n",
        "df_train=df_2.loc[df_2[\"source\"]==\"train\"]\n",
        "df_test=df_2.loc[df_2[\"source\"]==\"test\"]\n",
        "df_1 = df_train"
      ],
      "execution_count": 15,
      "outputs": []
    },
    {
      "cell_type": "code",
      "metadata": {
        "colab": {
          "base_uri": "https://localhost:8080/",
          "height": 287
        },
        "id": "rBYWgrYmA53y",
        "outputId": "d8fdaf81-b2a4-4827-cc07-b40b887dcd15"
      },
      "source": [
        "#we can drop column as they are irrelevant and have no effect on our data\n",
        "df_1.drop(columns=['ID',\"source\"],inplace=True)\n",
        "df_1.head()"
      ],
      "execution_count": 16,
      "outputs": [
        {
          "output_type": "stream",
          "name": "stderr",
          "text": [
            "/usr/local/lib/python3.7/dist-packages/pandas/core/frame.py:4174: SettingWithCopyWarning: \n",
            "A value is trying to be set on a copy of a slice from a DataFrame\n",
            "\n",
            "See the caveats in the documentation: https://pandas.pydata.org/pandas-docs/stable/user_guide/indexing.html#returning-a-view-versus-a-copy\n",
            "  errors=errors,\n"
          ]
        },
        {
          "output_type": "execute_result",
          "data": {
            "text/html": [
              "<div>\n",
              "<style scoped>\n",
              "    .dataframe tbody tr th:only-of-type {\n",
              "        vertical-align: middle;\n",
              "    }\n",
              "\n",
              "    .dataframe tbody tr th {\n",
              "        vertical-align: top;\n",
              "    }\n",
              "\n",
              "    .dataframe thead th {\n",
              "        text-align: right;\n",
              "    }\n",
              "</style>\n",
              "<table border=\"1\" class=\"dataframe\">\n",
              "  <thead>\n",
              "    <tr style=\"text-align: right;\">\n",
              "      <th></th>\n",
              "      <th>Gender</th>\n",
              "      <th>Age</th>\n",
              "      <th>Region_Code</th>\n",
              "      <th>Occupation</th>\n",
              "      <th>Channel_Code</th>\n",
              "      <th>Vintage</th>\n",
              "      <th>Credit_Product</th>\n",
              "      <th>Avg_Account_Balance</th>\n",
              "      <th>Is_Active</th>\n",
              "      <th>Is_Lead</th>\n",
              "    </tr>\n",
              "  </thead>\n",
              "  <tbody>\n",
              "    <tr>\n",
              "      <th>0</th>\n",
              "      <td>0</td>\n",
              "      <td>73</td>\n",
              "      <td>18</td>\n",
              "      <td>1</td>\n",
              "      <td>2</td>\n",
              "      <td>43</td>\n",
              "      <td>1</td>\n",
              "      <td>1045696</td>\n",
              "      <td>0.0</td>\n",
              "      <td>0.0</td>\n",
              "    </tr>\n",
              "    <tr>\n",
              "      <th>1</th>\n",
              "      <td>0</td>\n",
              "      <td>30</td>\n",
              "      <td>27</td>\n",
              "      <td>2</td>\n",
              "      <td>0</td>\n",
              "      <td>32</td>\n",
              "      <td>1</td>\n",
              "      <td>581988</td>\n",
              "      <td>0.0</td>\n",
              "      <td>0.0</td>\n",
              "    </tr>\n",
              "    <tr>\n",
              "      <th>2</th>\n",
              "      <td>0</td>\n",
              "      <td>56</td>\n",
              "      <td>18</td>\n",
              "      <td>3</td>\n",
              "      <td>2</td>\n",
              "      <td>26</td>\n",
              "      <td>1</td>\n",
              "      <td>1484315</td>\n",
              "      <td>1.0</td>\n",
              "      <td>0.0</td>\n",
              "    </tr>\n",
              "    <tr>\n",
              "      <th>3</th>\n",
              "      <td>1</td>\n",
              "      <td>34</td>\n",
              "      <td>20</td>\n",
              "      <td>2</td>\n",
              "      <td>0</td>\n",
              "      <td>19</td>\n",
              "      <td>1</td>\n",
              "      <td>470454</td>\n",
              "      <td>0.0</td>\n",
              "      <td>0.0</td>\n",
              "    </tr>\n",
              "    <tr>\n",
              "      <th>4</th>\n",
              "      <td>0</td>\n",
              "      <td>30</td>\n",
              "      <td>32</td>\n",
              "      <td>2</td>\n",
              "      <td>0</td>\n",
              "      <td>33</td>\n",
              "      <td>1</td>\n",
              "      <td>886787</td>\n",
              "      <td>0.0</td>\n",
              "      <td>0.0</td>\n",
              "    </tr>\n",
              "  </tbody>\n",
              "</table>\n",
              "</div>"
            ],
            "text/plain": [
              "   Gender  Age  Region_Code  ...  Avg_Account_Balance  Is_Active  Is_Lead\n",
              "0       0   73           18  ...              1045696        0.0      0.0\n",
              "1       0   30           27  ...               581988        0.0      0.0\n",
              "2       0   56           18  ...              1484315        1.0      0.0\n",
              "3       1   34           20  ...               470454        0.0      0.0\n",
              "4       0   30           32  ...               886787        0.0      0.0\n",
              "\n",
              "[5 rows x 10 columns]"
            ]
          },
          "metadata": {},
          "execution_count": 16
        }
      ]
    },
    {
      "cell_type": "code",
      "metadata": {
        "id": "-p0j1dUVG-9o"
      },
      "source": [
        "from sklearn.preprocessing import StandardScaler\n",
        "scaler = StandardScaler()"
      ],
      "execution_count": 37,
      "outputs": []
    },
    {
      "cell_type": "code",
      "metadata": {
        "id": "GqWh6w4eHGt1"
      },
      "source": [
        "#Standardizing value of x by using standardscaler to make the data normally distributed\n",
        "sc = StandardScaler()\n",
        "df_xc = pd.DataFrame(sc.fit_transform(xc),columns=xc.columns)"
      ],
      "execution_count": 38,
      "outputs": []
    },
    {
      "cell_type": "markdown",
      "metadata": {
        "id": "jl17WBxbHPdu"
      },
      "source": [
        "Classification Modelling"
      ]
    },
    {
      "cell_type": "code",
      "metadata": {
        "id": "h5szfB75GKT1"
      },
      "source": [
        "#Importing necessary libraries\n",
        "from sklearn import metrics\n",
        "from scipy.stats import zscore\n",
        "from sklearn.preprocessing import LabelEncoder,StandardScaler\n",
        "from sklearn.model_selection import train_test_split,GridSearchCV\n",
        "from sklearn.decomposition import PCA\n",
        "from sklearn.metrics import precision_score, recall_score, confusion_matrix, f1_score, roc_auc_score, roc_curve\n",
        "from sklearn.metrics import accuracy_score,classification_report,confusion_matrix,roc_auc_score,roc_curve\n",
        "from sklearn.metrics import auc\n",
        "from sklearn.metrics import plot_roc_curve\n",
        "from sklearn.linear_model import LogisticRegression\n",
        "from sklearn.naive_bayes import MultinomialNB\n",
        "from sklearn.neighbors import KNeighborsClassifier\n",
        "from sklearn.ensemble import RandomForestClassifier\n",
        "from sklearn.svm import SVC\n",
        "from sklearn.tree import DecisionTreeClassifier\n",
        "from sklearn.ensemble import AdaBoostClassifier,GradientBoostingClassifier\n",
        "from sklearn.model_selection import cross_val_score\n",
        "from sklearn.naive_bayes import GaussianNB\n",
        "\n",
        "#Import warnings\n",
        "import warnings\n",
        "warnings.filterwarnings('ignore')"
      ],
      "execution_count": 33,
      "outputs": []
    },
    {
      "cell_type": "code",
      "metadata": {
        "id": "bh2k_QylGN7b"
      },
      "source": [
        "#defining a function to find fit of the model\n",
        "\n",
        "def max_accuracy_scr(names,model_c,df_xc,yc):\n",
        "    accuracy_scr_max = 0\n",
        "    roc_scr_max=0\n",
        "    train_xc,test_xc,train_yc,test_yc = train_test_split(df_xc,yc,random_state = 42,test_size = 0.2,stratify = yc)\n",
        "    model_c.fit(train_xc,train_yc)\n",
        "    pred = model_c.predict_proba(test_xc)[:, 1]\n",
        "    roc_score = roc_auc_score(test_yc, pred)\n",
        "    accuracy_scr = accuracy_score(test_yc,model_c.predict(test_xc))\n",
        "    if roc_score> roc_scr_max:\n",
        "      roc_scr_max=roc_score\n",
        "      final_model = model_c\n",
        "      mean_acc = cross_val_score(final_model,df_xc,yc,cv=5,scoring=\"accuracy\").mean()\n",
        "      std_dev = cross_val_score(final_model,df_xc,yc,cv=5,scoring=\"accuracy\").std()\n",
        "      cross_val = cross_val_score(final_model,df_xc,yc,cv=5,scoring=\"accuracy\")\n",
        "    print(\"*\"*50)\n",
        "    print(\"Results for model : \",names,'\\n',\n",
        "          \"max roc score correspond to random state \" ,roc_scr_max ,'\\n',\n",
        "          \"Mean accuracy score is : \",mean_acc,'\\n',\n",
        "          \"Std deviation score is : \",std_dev,'\\n',\n",
        "          \"Cross validation scores are :  \" ,cross_val) \n",
        "    print(f\"roc_auc_score: {roc_score}\")\n",
        "    print(\"*\"*50)"
      ],
      "execution_count": 34,
      "outputs": []
    },
    {
      "cell_type": "code",
      "metadata": {
        "colab": {
          "base_uri": "https://localhost:8080/"
        },
        "id": "9cYrvjGtGRnt",
        "outputId": "ac446c03-382d-41de-efd5-220173218fe0"
      },
      "source": [
        "#Now by using multiple Algorithms we are calculating the best Algo which performs best for our data set \n",
        "accuracy_scr_max = []\n",
        "models=[]\n",
        "#accuracy=[]\n",
        "std_dev=[]\n",
        "roc_auc=[]\n",
        "mean_acc=[]\n",
        "cross_val=[]\n",
        "models.append(('Logistic Regression', LogisticRegression()))\n",
        "models.append(('Random Forest', RandomForestClassifier()))\n",
        "models.append(('Decision Tree Classifier',DecisionTreeClassifier()))\n",
        "models.append((\"GausianNB\",GaussianNB()))\n",
        "\n",
        "for names,model_c in models:\n",
        "    max_accuracy_scr(names,model_c,df_xc,yc)"
      ],
      "execution_count": 39,
      "outputs": [
        {
          "output_type": "stream",
          "name": "stdout",
          "text": [
            "**************************************************\n",
            "Results for model :  Logistic Regression \n",
            " max roc score correspond to random state  0.727315712597147 \n",
            " Mean accuracy score is :  0.6696918411779096 \n",
            " Std deviation score is :  0.0030322593046897828 \n",
            " Cross validation scores are :   [0.67361469 0.66566588 0.66703839 0.67239974 0.66974051]\n",
            "roc_auc_score: 0.727315712597147\n",
            "**************************************************\n",
            "**************************************************\n",
            "Results for model :  Random Forest \n",
            " max roc score correspond to random state  0.8790888141859429 \n",
            " Mean accuracy score is :  0.8110503043215302 \n",
            " Std deviation score is :  0.002044764139325201 \n",
            " Cross validation scores are :   [0.81090238 0.81055115 0.80900708 0.81098006 0.8149689 ]\n",
            "roc_auc_score: 0.8790888141859429\n",
            "**************************************************\n",
            "**************************************************\n",
            "Results for model :  Decision Tree Classifier \n",
            " max roc score correspond to random state  0.7421084234002402 \n",
            " Mean accuracy score is :  0.7423568786695023 \n",
            " Std deviation score is :  0.0027183828651116894 \n",
            " Cross validation scores are :   [0.7445531  0.74153978 0.73965258 0.73789406 0.74531418]\n",
            "roc_auc_score: 0.7421084234002402\n",
            "**************************************************\n",
            "**************************************************\n",
            "Results for model :  GausianNB \n",
            " max roc score correspond to random state  0.7956111563031266 \n",
            " Mean accuracy score is :  0.7158677336619202 \n",
            " Std deviation score is :  0.0015884106712636206 \n",
            " Cross validation scores are :   [0.71894836 0.71550504 0.71546215 0.71443277 0.71499035]\n",
            "roc_auc_score: 0.7956111563031266\n",
            "**************************************************\n"
          ]
        }
      ]
    },
    {
      "cell_type": "markdown",
      "metadata": {
        "id": "-LSIdITKIToI"
      },
      "source": [
        "First Attempt:Random Forest Classifier"
      ]
    },
    {
      "cell_type": "code",
      "metadata": {
        "colab": {
          "base_uri": "https://localhost:8080/"
        },
        "id": "NfcgkvhiIRGX",
        "outputId": "6349028f-3d57-447f-8b20-52e1857232e8"
      },
      "source": [
        "# Estimating best n_estimator using grid search for Randomforest Classifier\n",
        "parameters={\"n_estimators\":[1,10,100]}\n",
        "rf_clf=RandomForestClassifier()\n",
        "clf = GridSearchCV(rf_clf, parameters, cv=5,scoring=\"roc_auc\")\n",
        "clf.fit(df_xc,yc)\n",
        "print(\"Best parameter : \",clf.best_params_,\"\\nBest Estimator : \", clf.best_estimator_,\"\\nBest Score : \", clf.best_score_)"
      ],
      "execution_count": 40,
      "outputs": [
        {
          "output_type": "stream",
          "name": "stdout",
          "text": [
            "Best parameter :  {'n_estimators': 100} \n",
            "Best Estimator :  RandomForestClassifier(bootstrap=True, ccp_alpha=0.0, class_weight=None,\n",
            "                       criterion='gini', max_depth=None, max_features='auto',\n",
            "                       max_leaf_nodes=None, max_samples=None,\n",
            "                       min_impurity_decrease=0.0, min_impurity_split=None,\n",
            "                       min_samples_leaf=1, min_samples_split=2,\n",
            "                       min_weight_fraction_leaf=0.0, n_estimators=100,\n",
            "                       n_jobs=None, oob_score=False, random_state=None,\n",
            "                       verbose=0, warm_start=False) \n",
            "Best Score :  0.8812538533023109\n"
          ]
        }
      ]
    },
    {
      "cell_type": "code",
      "metadata": {
        "colab": {
          "base_uri": "https://localhost:8080/"
        },
        "id": "MjWRQw4tI1-y",
        "outputId": "795d41f1-bd9f-4222-eac1-6419fb427273"
      },
      "source": [
        "#Again running RFC with n_estimator = 100\n",
        "rf_clf=RandomForestClassifier(n_estimators=100,random_state=42)\n",
        "max_accuracy_scr(\"RandomForest Classifier\",rf_clf,df_xc,yc)"
      ],
      "execution_count": 41,
      "outputs": [
        {
          "output_type": "stream",
          "name": "stdout",
          "text": [
            "**************************************************\n",
            "Results for model :  RandomForest Classifier \n",
            " max roc score correspond to random state  0.879415808805665 \n",
            " Mean accuracy score is :  0.8115392510996895 \n",
            " Std deviation score is :  0.0008997445291505284 \n",
            " Cross validation scores are :   [0.81180305 0.81136607 0.81106584 0.81037958 0.81308171]\n",
            "roc_auc_score: 0.879415808805665\n",
            "**************************************************\n"
          ]
        }
      ]
    },
    {
      "cell_type": "code",
      "metadata": {
        "id": "93aXvaHII9Nd"
      },
      "source": [
        "xc_train,xc_test,yc_train,yc_test=train_test_split(df_xc, yc,random_state = 80,test_size=0.20,stratify=yc)\n",
        "rf_clf.fit(xc_train,yc_train)\n",
        "yc_pred=rf_clf.predict(xc_test)"
      ],
      "execution_count": 42,
      "outputs": []
    },
    {
      "cell_type": "code",
      "metadata": {
        "colab": {
          "base_uri": "https://localhost:8080/",
          "height": 534
        },
        "id": "qrwkdCg1JRps",
        "outputId": "6b54544a-362f-43a4-cc0c-2e2ec20711c7"
      },
      "source": [
        "#  Random Forest Classifier Results\n",
        "\n",
        "pred_pb=rf_clf.predict_proba(xc_test)[:,1]\n",
        "Fpr,Tpr,thresholds = roc_curve(yc_test,pred_pb,pos_label=True)\n",
        "auc = roc_auc_score(yc_test,pred_pb)\n",
        "\n",
        "print(\" ROC_AUC score is \",auc)\n",
        "print(\"accuracy score is : \",accuracy_score(yc_test,yc_pred))\n",
        "print(\"Precision is : \" ,precision_score(yc_test, yc_pred))\n",
        "print(\"Recall is: \" ,recall_score(yc_test, yc_pred))\n",
        "print(\"F1 Score is : \" ,f1_score(yc_test, yc_pred))\n",
        "print(\"classification report \\n\",classification_report(yc_test,yc_pred))\n",
        "\n",
        "#Plotting confusion matrix\n",
        "cnf = confusion_matrix(yc_test,yc_pred)\n",
        "sns.heatmap(cnf, annot=True, cmap = \"magma\")"
      ],
      "execution_count": 43,
      "outputs": [
        {
          "output_type": "stream",
          "name": "stdout",
          "text": [
            " ROC_AUC score is  0.8804566893762799\n",
            "accuracy score is :  0.8127466117687425\n",
            "Precision is :  0.8397949673811743\n",
            "Recall is:  0.7729456167438669\n",
            "F1 Score is :  0.8049848132928354\n",
            "classification report \n",
            "               precision    recall  f1-score   support\n",
            "\n",
            "         0.0       0.79      0.85      0.82     11658\n",
            "         1.0       0.84      0.77      0.80     11658\n",
            "\n",
            "    accuracy                           0.81     23316\n",
            "   macro avg       0.81      0.81      0.81     23316\n",
            "weighted avg       0.81      0.81      0.81     23316\n",
            "\n"
          ]
        },
        {
          "output_type": "execute_result",
          "data": {
            "text/plain": [
              "<matplotlib.axes._subplots.AxesSubplot at 0x7f9809a54b90>"
            ]
          },
          "metadata": {},
          "execution_count": 43
        },
        {
          "output_type": "display_data",
          "data": {
            "image/png": "[encoded data removed]",
            "text/plain": [
              "<Figure size 432x288 with 2 Axes>"
            ]
          },
          "metadata": {
            "needs_background": "light"
          }
        }
      ]
    },
    {
      "cell_type": "code",
      "metadata": {
        "colab": {
          "base_uri": "https://localhost:8080/",
          "height": 296
        },
        "id": "ltdCdBJkJ-5M",
        "outputId": "37986f9a-d5a0-4a37-c8c7-58a1ac521ac7"
      },
      "source": [
        "#plotting the graph for area under curve for representing accuracy of data\n",
        "plt.plot([0,1],[1,0],'g--')\n",
        "plt.plot(Fpr,Tpr)\n",
        "plt.xlabel('False_Positive_Rate')\n",
        "plt.ylabel('True_Positive_Rate')\n",
        "plt.title(\"Random Forest Classifier\")\n",
        "plt.show()"
      ],
      "execution_count": 44,
      "outputs": [
        {
          "output_type": "display_data",
          "data": {
            "image/png": "[encoded data removed]",
            "text/plain": [
              "<Figure size 432x288 with 1 Axes>"
            ]
          },
          "metadata": {
            "needs_background": "light"
          }
        }
      ]
    },
    {
      "cell_type": "markdown",
      "metadata": {
        "id": "JE4SwpsTKEYJ"
      },
      "source": [
        "Second Attempt: XG Boost Classifer"
      ]
    },
    {
      "cell_type": "code",
      "metadata": {
        "id": "d8u-AOqVKBZ3"
      },
      "source": [
        "#Trying XGBoost\n",
        "import xgboost as xg\n",
        "from xgboost import XGBClassifier\n",
        "from sklearn.utils import class_weight\n",
        "\n",
        "clf2 = xg.XGBClassifier(class_weight='balanced').fit(xc_train, yc_train)\n",
        "class_weight.compute_class_weight('balanced', np.unique(yc_train), yc_train[\"Is_Lead\"])\n",
        "xg_pred = clf2.predict(xc_test)"
      ],
      "execution_count": 45,
      "outputs": []
    },
    {
      "cell_type": "code",
      "metadata": {
        "colab": {
          "base_uri": "https://localhost:8080/",
          "height": 534
        },
        "id": "FiNjCdfAKb2i",
        "outputId": "9cb6ae77-2c8d-455d-f0df-d835abcbed09"
      },
      "source": [
        "#XG Boost Results\n",
        "xg_pred_2=clf2.predict_proba(xc_test)[:,1]\n",
        "Fpr,Tpr,thresholds = roc_curve(yc_test,xg_pred_2,pos_label=True)\n",
        "auc = roc_auc_score(yc_test,xg_pred_2)\n",
        "\n",
        "print(\" ROC_AUC score is \",auc)\n",
        "print(\"accuracy score is : \",accuracy_score(yc_test,xg_pred))\n",
        "print(\"Precision is : \" ,precision_score(yc_test, xg_pred))\n",
        "print(\"Recall is: \" ,recall_score(yc_test, xg_pred))\n",
        "print(\"F1 Score is : \" ,f1_score(yc_test, xg_pred))\n",
        "print(\"classification report \\n\",classification_report(yc_test,xg_pred))\n",
        "\n",
        "cnf = confusion_matrix(yc_test,xg_pred)\n",
        "sns.heatmap(cnf, annot=True, cmap = \"magma\")"
      ],
      "execution_count": 46,
      "outputs": [
        {
          "output_type": "stream",
          "name": "stdout",
          "text": [
            " ROC_AUC score is  0.8694684921592073\n",
            "accuracy score is :  0.8006090238462858\n",
            "Precision is :  0.8253040007425972\n",
            "Recall is:  0.7626522559615715\n",
            "F1 Score is :  0.7927421871517097\n",
            "classification report \n",
            "               precision    recall  f1-score   support\n",
            "\n",
            "         0.0       0.78      0.84      0.81     11658\n",
            "         1.0       0.83      0.76      0.79     11658\n",
            "\n",
            "    accuracy                           0.80     23316\n",
            "   macro avg       0.80      0.80      0.80     23316\n",
            "weighted avg       0.80      0.80      0.80     23316\n",
            "\n"
          ]
        },
        {
          "output_type": "execute_result",
          "data": {
            "text/plain": [
              "<matplotlib.axes._subplots.AxesSubplot at 0x7f98098c4310>"
            ]
          },
          "metadata": {},
          "execution_count": 46
        },
        {
          "output_type": "display_data",
          "data": {
            "image/png": "[encoded data removed]",
            "text/plain": [
              "<Figure size 432x288 with 2 Axes>"
            ]
          },
          "metadata": {
            "needs_background": "light"
          }
        }
      ]
    },
    {
      "cell_type": "code",
      "metadata": {
        "colab": {
          "base_uri": "https://localhost:8080/",
          "height": 296
        },
        "id": "PuAHETaeKm3N",
        "outputId": "6b23921c-0db3-4259-9f1d-84b543b682ae"
      },
      "source": [
        "#plotting the graph for area under curve for representing accuracy of data\n",
        "plt.plot([0,1],[1,0],'g--')\n",
        "plt.plot(Fpr,Tpr)\n",
        "plt.xlabel('False_Positive_Rate')\n",
        "plt.ylabel('True_Positive_Rate')\n",
        "plt.title(\"XG_Boost Classifier\")\n",
        "plt.show()"
      ],
      "execution_count": 47,
      "outputs": [
        {
          "output_type": "display_data",
          "data": {
            "image/png": "[encoded data removed]",
            "text/plain": [
              "<Figure size 432x288 with 1 Axes>"
            ]
          },
          "metadata": {
            "needs_background": "light"
          }
        }
      ]
    },
    {
      "cell_type": "markdown",
      "metadata": {
        "id": "WK79rs59K_oO"
      },
      "source": [
        "Third Attempt: LGBM Model with Stratification Folds"
      ]
    },
    {
      "cell_type": "code",
      "metadata": {
        "id": "uJkOofz0LAaR"
      },
      "source": [
        "#Trying stratification modeling\n",
        "from sklearn.model_selection import KFold, StratifiedKFold\n",
        "\n",
        "def cross_val(xc, yc, model, params, folds=10):\n",
        "\n",
        "    skf = StratifiedKFold(n_splits=folds, shuffle=True, random_state=42)\n",
        "    for fold, (train_idx, test_idx) in enumerate(skf.split(xc, yc)):\n",
        "        print(f\"Fold: {fold}\")\n",
        "        xc_train, yc_train = xc.iloc[train_idx], yc.iloc[train_idx]\n",
        "        xc_test, yc_test = xc.iloc[test_idx], yc.iloc[test_idx]\n",
        "\n",
        "        model_c= model(**params)\n",
        "        model_c.fit(xc_train, yc_train,eval_set=[(xc_test, yc_test)],early_stopping_rounds=100, verbose=300)\n",
        "\n",
        "        pred_y = model_c.predict_proba(xc_test)[:, 1]\n",
        "        roc_score = roc_auc_score(yc_test, pred_y)\n",
        "        print(f\"roc_auc_score: {roc_score}\")\n",
        "        print(\"-\"*50)\n",
        "    \n",
        "    return model_c"
      ],
      "execution_count": 48,
      "outputs": []
    },
    {
      "cell_type": "code",
      "metadata": {
        "colab": {
          "base_uri": "https://localhost:8080/"
        },
        "id": "xlwC9t3mLWun",
        "outputId": "a47ed630-d65b-43c2-afd5-255f7dfb3022"
      },
      "source": [
        "#Applying LGBM Model with 10 stratified cross-folds\n",
        "from lightgbm import LGBMClassifier\n",
        "\n",
        "lgb_params= {'learning_rate': 0.045, 'n_estimators': 10000,'max_bin': 84,'num_leaves': 10,'max_depth': 20,'reg_alpha': 8.457,'reg_lambda': 6.853,'subsample': 0.749}\n",
        "lgb_model = cross_val(xc, yc, LGBMClassifier, lgb_params)"
      ],
      "execution_count": 49,
      "outputs": [
        {
          "output_type": "stream",
          "name": "stdout",
          "text": [
            "Fold: 0\n",
            "Training until validation scores don't improve for 100 rounds.\n",
            "[300]\tvalid_0's binary_logloss: 0.43378\n",
            "[600]\tvalid_0's binary_logloss: 0.433618\n",
            "Early stopping, best iteration is:\n",
            "[726]\tvalid_0's binary_logloss: 0.433573\n",
            "roc_auc_score: 0.8747079699614221\n",
            "--------------------------------------------------\n",
            "Fold: 1\n",
            "Training until validation scores don't improve for 100 rounds.\n",
            "[300]\tvalid_0's binary_logloss: 0.434887\n",
            "[600]\tvalid_0's binary_logloss: 0.434483\n",
            "Early stopping, best iteration is:\n",
            "[613]\tvalid_0's binary_logloss: 0.434462\n",
            "roc_auc_score: 0.87552816604503\n",
            "--------------------------------------------------\n",
            "Fold: 2\n",
            "Training until validation scores don't improve for 100 rounds.\n",
            "[300]\tvalid_0's binary_logloss: 0.431872\n",
            "[600]\tvalid_0's binary_logloss: 0.431268\n",
            "Early stopping, best iteration is:\n",
            "[795]\tvalid_0's binary_logloss: 0.431087\n",
            "roc_auc_score: 0.8768318033827408\n",
            "--------------------------------------------------\n",
            "Fold: 3\n",
            "Training until validation scores don't improve for 100 rounds.\n",
            "[300]\tvalid_0's binary_logloss: 0.442055\n",
            "[600]\tvalid_0's binary_logloss: 0.441363\n",
            "[900]\tvalid_0's binary_logloss: 0.441129\n",
            "Early stopping, best iteration is:\n",
            "[927]\tvalid_0's binary_logloss: 0.441104\n",
            "roc_auc_score: 0.872124019722496\n",
            "--------------------------------------------------\n",
            "Fold: 4\n",
            "Training until validation scores don't improve for 100 rounds.\n",
            "[300]\tvalid_0's binary_logloss: 0.439532\n",
            "[600]\tvalid_0's binary_logloss: 0.439022\n",
            "Early stopping, best iteration is:\n",
            "[595]\tvalid_0's binary_logloss: 0.438998\n",
            "roc_auc_score: 0.8709998848935381\n",
            "--------------------------------------------------\n",
            "Fold: 5\n",
            "Training until validation scores don't improve for 100 rounds.\n",
            "[300]\tvalid_0's binary_logloss: 0.427573\n",
            "Early stopping, best iteration is:\n",
            "[379]\tvalid_0's binary_logloss: 0.42737\n",
            "roc_auc_score: 0.8794105148207885\n",
            "--------------------------------------------------\n",
            "Fold: 6\n",
            "Training until validation scores don't improve for 100 rounds.\n",
            "[300]\tvalid_0's binary_logloss: 0.440503\n",
            "[600]\tvalid_0's binary_logloss: 0.439857\n",
            "Early stopping, best iteration is:\n",
            "[796]\tvalid_0's binary_logloss: 0.43958\n",
            "roc_auc_score: 0.8721792017358596\n",
            "--------------------------------------------------\n",
            "Fold: 7\n",
            "Training until validation scores don't improve for 100 rounds.\n",
            "[300]\tvalid_0's binary_logloss: 0.423852\n",
            "Early stopping, best iteration is:\n",
            "[477]\tvalid_0's binary_logloss: 0.423639\n",
            "roc_auc_score: 0.8805469434123021\n",
            "--------------------------------------------------\n",
            "Fold: 8\n",
            "Training until validation scores don't improve for 100 rounds.\n",
            "[300]\tvalid_0's binary_logloss: 0.440646\n",
            "[600]\tvalid_0's binary_logloss: 0.440177\n",
            "Early stopping, best iteration is:\n",
            "[679]\tvalid_0's binary_logloss: 0.440021\n",
            "roc_auc_score: 0.8709383642928943\n",
            "--------------------------------------------------\n",
            "Fold: 9\n",
            "Training until validation scores don't improve for 100 rounds.\n",
            "[300]\tvalid_0's binary_logloss: 0.44157\n",
            "[600]\tvalid_0's binary_logloss: 0.441148\n",
            "Early stopping, best iteration is:\n",
            "[708]\tvalid_0's binary_logloss: 0.441036\n",
            "roc_auc_score: 0.8712672143271525\n",
            "--------------------------------------------------\n"
          ]
        }
      ]
    },
    {
      "cell_type": "code",
      "metadata": {
        "colab": {
          "base_uri": "https://localhost:8080/",
          "height": 534
        },
        "id": "ltX86weaMPDk",
        "outputId": "34d5659a-b699-48e5-bfa7-4ce7320d2218"
      },
      "source": [
        "#LGBM results\n",
        "lgb_pred_2=clf2.predict_proba(xc_test)[:,1]\n",
        "Fpr,Tpr,thresholds = roc_curve(yc_test,lgb_pred_2,pos_label=True)\n",
        "auc = roc_auc_score(yc_test,lgb_pred_2)\n",
        "\n",
        "print(\" ROC_AUC score is \",auc)\n",
        "lgb_model.fit(xc_train,yc_train)\n",
        "lgb_pred=lgb_model.predict(xc_test)\n",
        "print(\"accuracy score is : \",accuracy_score(yc_test,lgb_pred))\n",
        "print(\"Precision is : \" ,precision_score(yc_test, lgb_pred))\n",
        "print(\"Recall is: \" ,recall_score(yc_test, lgb_pred))\n",
        "print(\"F1 Score is : \" ,f1_score(yc_test, lgb_pred))\n",
        "print(\"classification report \\n\",classification_report(yc_test,lgb_pred))\n",
        "\n",
        "cnf = confusion_matrix(yc_test,lgb_pred)\n",
        "sns.heatmap(cnf, annot=True, cmap = \"magma\")"
      ],
      "execution_count": 50,
      "outputs": [
        {
          "output_type": "stream",
          "name": "stdout",
          "text": [
            " ROC_AUC score is  0.8694684921592073\n",
            "accuracy score is :  0.8036541430777149\n",
            "Precision is :  0.8259068311544835\n",
            "Recall is:  0.7695144964831018\n",
            "F1 Score is :  0.7967140319715809\n",
            "classification report \n",
            "               precision    recall  f1-score   support\n",
            "\n",
            "         0.0       0.78      0.84      0.81     11658\n",
            "         1.0       0.83      0.77      0.80     11658\n",
            "\n",
            "    accuracy                           0.80     23316\n",
            "   macro avg       0.81      0.80      0.80     23316\n",
            "weighted avg       0.81      0.80      0.80     23316\n",
            "\n"
          ]
        },
        {
          "output_type": "execute_result",
          "data": {
            "text/plain": [
              "<matplotlib.axes._subplots.AxesSubplot at 0x7f980978b2d0>"
            ]
          },
          "metadata": {},
          "execution_count": 50
        },
        {
          "output_type": "display_data",
          "data": {
            "image/png": "[encoded data removed]",
            "text/plain": [
              "<Figure size 432x288 with 2 Axes>"
            ]
          },
          "metadata": {
            "needs_background": "light"
          }
        }
      ]
    },
    {
      "cell_type": "code",
      "metadata": {
        "colab": {
          "base_uri": "https://localhost:8080/",
          "height": 296
        },
        "id": "F4StuVviMTuj",
        "outputId": "b5ba0501-0a48-4ea8-fb26-09dfe8a3dc33"
      },
      "source": [
        "#plotting the graph for area under curve for representing accuracy of data\n",
        "plt.plot([0,1],[1,0],'g--')\n",
        "plt.plot(Fpr,Tpr)\n",
        "plt.xlabel('False_Positive_Rate')\n",
        "plt.ylabel('True_Positive_Rate')\n",
        "plt.title(\"LGB Classifier model\")\n",
        "plt.show()"
      ],
      "execution_count": 51,
      "outputs": [
        {
          "output_type": "display_data",
          "data": {
            "image/png": "[encoded data removed]",
            "text/plain": [
              "<Figure size 432x288 with 1 Axes>"
            ]
          },
          "metadata": {
            "needs_background": "light"
          }
        }
      ]
    },
    {
      "cell_type": "markdown",
      "metadata": {
        "id": "w2CBDTNjMXpH"
      },
      "source": [
        "Prediction"
      ]
    },
    {
      "cell_type": "code",
      "metadata": {
        "id": "3IxDsA6SMYbn"
      },
      "source": [
        "#we can drop column as they are irrelevant and have no effect on our data\n",
        "df_3 = df_test"
      ],
      "execution_count": 52,
      "outputs": []
    },
    {
      "cell_type": "code",
      "metadata": {
        "colab": {
          "base_uri": "https://localhost:8080/",
          "height": 203
        },
        "id": "rYVcWFm1MsJU",
        "outputId": "eeacb4d6-493e-4fa3-e557-915ad1d4e343"
      },
      "source": [
        "df_3.drop(columns=[\"source\"],inplace=True)\n",
        "df_3.head()"
      ],
      "execution_count": 53,
      "outputs": [
        {
          "output_type": "execute_result",
          "data": {
            "text/html": [
              "<div>\n",
              "<style scoped>\n",
              "    .dataframe tbody tr th:only-of-type {\n",
              "        vertical-align: middle;\n",
              "    }\n",
              "\n",
              "    .dataframe tbody tr th {\n",
              "        vertical-align: top;\n",
              "    }\n",
              "\n",
              "    .dataframe thead th {\n",
              "        text-align: right;\n",
              "    }\n",
              "</style>\n",
              "<table border=\"1\" class=\"dataframe\">\n",
              "  <thead>\n",
              "    <tr style=\"text-align: right;\">\n",
              "      <th></th>\n",
              "      <th>ID</th>\n",
              "      <th>Gender</th>\n",
              "      <th>Age</th>\n",
              "      <th>Region_Code</th>\n",
              "      <th>Occupation</th>\n",
              "      <th>Channel_Code</th>\n",
              "      <th>Vintage</th>\n",
              "      <th>Credit_Product</th>\n",
              "      <th>Avg_Account_Balance</th>\n",
              "      <th>Is_Active</th>\n",
              "      <th>Is_Lead</th>\n",
              "    </tr>\n",
              "  </thead>\n",
              "  <tbody>\n",
              "    <tr>\n",
              "      <th>245725</th>\n",
              "      <td>VBENBARO</td>\n",
              "      <td>1</td>\n",
              "      <td>29</td>\n",
              "      <td>4</td>\n",
              "      <td>1</td>\n",
              "      <td>0</td>\n",
              "      <td>25</td>\n",
              "      <td>2</td>\n",
              "      <td>742366</td>\n",
              "      <td>0.0</td>\n",
              "      <td>NaN</td>\n",
              "    </tr>\n",
              "    <tr>\n",
              "      <th>245726</th>\n",
              "      <td>CCMEWNKY</td>\n",
              "      <td>1</td>\n",
              "      <td>43</td>\n",
              "      <td>18</td>\n",
              "      <td>1</td>\n",
              "      <td>1</td>\n",
              "      <td>49</td>\n",
              "      <td>0</td>\n",
              "      <td>925537</td>\n",
              "      <td>0.0</td>\n",
              "      <td>NaN</td>\n",
              "    </tr>\n",
              "    <tr>\n",
              "      <th>245727</th>\n",
              "      <td>VK3KGA9M</td>\n",
              "      <td>1</td>\n",
              "      <td>31</td>\n",
              "      <td>20</td>\n",
              "      <td>2</td>\n",
              "      <td>0</td>\n",
              "      <td>14</td>\n",
              "      <td>1</td>\n",
              "      <td>215949</td>\n",
              "      <td>0.0</td>\n",
              "      <td>NaN</td>\n",
              "    </tr>\n",
              "    <tr>\n",
              "      <th>245728</th>\n",
              "      <td>TT8RPZVC</td>\n",
              "      <td>1</td>\n",
              "      <td>29</td>\n",
              "      <td>22</td>\n",
              "      <td>1</td>\n",
              "      <td>0</td>\n",
              "      <td>33</td>\n",
              "      <td>1</td>\n",
              "      <td>868070</td>\n",
              "      <td>0.0</td>\n",
              "      <td>NaN</td>\n",
              "    </tr>\n",
              "    <tr>\n",
              "      <th>245729</th>\n",
              "      <td>SHQZEYTZ</td>\n",
              "      <td>0</td>\n",
              "      <td>29</td>\n",
              "      <td>20</td>\n",
              "      <td>1</td>\n",
              "      <td>0</td>\n",
              "      <td>19</td>\n",
              "      <td>1</td>\n",
              "      <td>657087</td>\n",
              "      <td>0.0</td>\n",
              "      <td>NaN</td>\n",
              "    </tr>\n",
              "  </tbody>\n",
              "</table>\n",
              "</div>"
            ],
            "text/plain": [
              "              ID  Gender  Age  ...  Avg_Account_Balance  Is_Active  Is_Lead\n",
              "245725  VBENBARO       1   29  ...               742366        0.0      NaN\n",
              "245726  CCMEWNKY       1   43  ...               925537        0.0      NaN\n",
              "245727  VK3KGA9M       1   31  ...               215949        0.0      NaN\n",
              "245728  TT8RPZVC       1   29  ...               868070        0.0      NaN\n",
              "245729  SHQZEYTZ       0   29  ...               657087        0.0      NaN\n",
              "\n",
              "[5 rows x 11 columns]"
            ]
          },
          "metadata": {},
          "execution_count": 53
        }
      ]
    },
    {
      "cell_type": "code",
      "metadata": {
        "id": "L8EMWpQCMvS3"
      },
      "source": [
        "# dropping target variable \n",
        "#assign the value of y for training and testing phase\n",
        "xc_pred = df_3.drop(columns=['Is_Lead',\"ID\"])\n",
        "\n",
        "#Standardizing value of x by using standardscaler to make the data normally distributed\n",
        "sc = StandardScaler()\n",
        "df_xc_pred = pd.DataFrame(sc.fit_transform(xc_pred),columns=xc_pred.columns)"
      ],
      "execution_count": 54,
      "outputs": []
    },
    {
      "cell_type": "code",
      "metadata": {
        "colab": {
          "base_uri": "https://localhost:8080/"
        },
        "id": "HdP102MdM4Fr",
        "outputId": "7ee23bf1-fa97-41f5-a617-4c1d079bf5ee"
      },
      "source": [
        "lead_pred_xg=clf2.predict_proba(df_xc_pred)[:,1]\n",
        "lead_pred_lgb=lgb_model.predict_proba(df_xc_pred)[:,1]\n",
        "lead_pred_rf=rf_clf.predict_proba(df_xc_pred)[:,1]\n",
        "print(lead_pred_xg, lead_pred_lgb, lead_pred_rf)"
      ],
      "execution_count": 55,
      "outputs": [
        {
          "output_type": "stream",
          "name": "stdout",
          "text": [
            "[0.15022086 0.9395936  0.15303788 ... 0.24841532 0.3684299  0.14877708] [0.13825026 0.94082028 0.13857711 ... 0.24325021 0.23395496 0.16656092] [0.17 0.97 0.09 ... 0.5  0.09 0.15]\n"
          ]
        }
      ]
    },
    {
      "cell_type": "code",
      "metadata": {
        "id": "V9DiCpn1M-V2"
      },
      "source": [
        "#Dataframe for lead prediction\n",
        "lead_pred_lgb= pd.DataFrame(lead_pred_lgb,columns=[\"Is_Lead\"])\n",
        "lead_pred_xg= pd.DataFrame(lead_pred_xg,columns=[\"Is_Lead\"])\n",
        "lead_pred_rf= pd.DataFrame(lead_pred_rf,columns=[\"Is_Lead\"])"
      ],
      "execution_count": 56,
      "outputs": []
    },
    {
      "cell_type": "code",
      "metadata": {
        "colab": {
          "base_uri": "https://localhost:8080/",
          "height": 203
        },
        "id": "UaeXnMGZNMPx",
        "outputId": "279910f3-9667-4c4e-a32d-507cc8d5c303"
      },
      "source": [
        "df_test = df_test.reset_index()\n",
        "df_test.head()"
      ],
      "execution_count": 57,
      "outputs": [
        {
          "output_type": "execute_result",
          "data": {
            "text/html": [
              "<div>\n",
              "<style scoped>\n",
              "    .dataframe tbody tr th:only-of-type {\n",
              "        vertical-align: middle;\n",
              "    }\n",
              "\n",
              "    .dataframe tbody tr th {\n",
              "        vertical-align: top;\n",
              "    }\n",
              "\n",
              "    .dataframe thead th {\n",
              "        text-align: right;\n",
              "    }\n",
              "</style>\n",
              "<table border=\"1\" class=\"dataframe\">\n",
              "  <thead>\n",
              "    <tr style=\"text-align: right;\">\n",
              "      <th></th>\n",
              "      <th>index</th>\n",
              "      <th>ID</th>\n",
              "      <th>Gender</th>\n",
              "      <th>Age</th>\n",
              "      <th>Region_Code</th>\n",
              "      <th>Occupation</th>\n",
              "      <th>Channel_Code</th>\n",
              "      <th>Vintage</th>\n",
              "      <th>Credit_Product</th>\n",
              "      <th>Avg_Account_Balance</th>\n",
              "      <th>Is_Active</th>\n",
              "      <th>Is_Lead</th>\n",
              "    </tr>\n",
              "  </thead>\n",
              "  <tbody>\n",
              "    <tr>\n",
              "      <th>0</th>\n",
              "      <td>245725</td>\n",
              "      <td>VBENBARO</td>\n",
              "      <td>1</td>\n",
              "      <td>29</td>\n",
              "      <td>4</td>\n",
              "      <td>1</td>\n",
              "      <td>0</td>\n",
              "      <td>25</td>\n",
              "      <td>2</td>\n",
              "      <td>742366</td>\n",
              "      <td>0.0</td>\n",
              "      <td>NaN</td>\n",
              "    </tr>\n",
              "    <tr>\n",
              "      <th>1</th>\n",
              "      <td>245726</td>\n",
              "      <td>CCMEWNKY</td>\n",
              "      <td>1</td>\n",
              "      <td>43</td>\n",
              "      <td>18</td>\n",
              "      <td>1</td>\n",
              "      <td>1</td>\n",
              "      <td>49</td>\n",
              "      <td>0</td>\n",
              "      <td>925537</td>\n",
              "      <td>0.0</td>\n",
              "      <td>NaN</td>\n",
              "    </tr>\n",
              "    <tr>\n",
              "      <th>2</th>\n",
              "      <td>245727</td>\n",
              "      <td>VK3KGA9M</td>\n",
              "      <td>1</td>\n",
              "      <td>31</td>\n",
              "      <td>20</td>\n",
              "      <td>2</td>\n",
              "      <td>0</td>\n",
              "      <td>14</td>\n",
              "      <td>1</td>\n",
              "      <td>215949</td>\n",
              "      <td>0.0</td>\n",
              "      <td>NaN</td>\n",
              "    </tr>\n",
              "    <tr>\n",
              "      <th>3</th>\n",
              "      <td>245728</td>\n",
              "      <td>TT8RPZVC</td>\n",
              "      <td>1</td>\n",
              "      <td>29</td>\n",
              "      <td>22</td>\n",
              "      <td>1</td>\n",
              "      <td>0</td>\n",
              "      <td>33</td>\n",
              "      <td>1</td>\n",
              "      <td>868070</td>\n",
              "      <td>0.0</td>\n",
              "      <td>NaN</td>\n",
              "    </tr>\n",
              "    <tr>\n",
              "      <th>4</th>\n",
              "      <td>245729</td>\n",
              "      <td>SHQZEYTZ</td>\n",
              "      <td>0</td>\n",
              "      <td>29</td>\n",
              "      <td>20</td>\n",
              "      <td>1</td>\n",
              "      <td>0</td>\n",
              "      <td>19</td>\n",
              "      <td>1</td>\n",
              "      <td>657087</td>\n",
              "      <td>0.0</td>\n",
              "      <td>NaN</td>\n",
              "    </tr>\n",
              "  </tbody>\n",
              "</table>\n",
              "</div>"
            ],
            "text/plain": [
              "    index        ID  Gender  ...  Avg_Account_Balance  Is_Active  Is_Lead\n",
              "0  245725  VBENBARO       1  ...               742366        0.0      NaN\n",
              "1  245726  CCMEWNKY       1  ...               925537        0.0      NaN\n",
              "2  245727  VK3KGA9M       1  ...               215949        0.0      NaN\n",
              "3  245728  TT8RPZVC       1  ...               868070        0.0      NaN\n",
              "4  245729  SHQZEYTZ       0  ...               657087        0.0      NaN\n",
              "\n",
              "[5 rows x 12 columns]"
            ]
          },
          "metadata": {},
          "execution_count": 57
        }
      ]
    },
    {
      "cell_type": "code",
      "metadata": {
        "colab": {
          "base_uri": "https://localhost:8080/"
        },
        "id": "wD7l-ccVNQYU",
        "outputId": "9c5cc46c-1a9d-4338-b3b5-d362200198e2"
      },
      "source": [
        "#Saving ID  and prediction to csv file for XG Model\n",
        "df_pred_xg=pd.concat([df_test[\"ID\"],lead_pred_xg],axis=1,ignore_index=True)\n",
        "df_pred_xg.columns = [\"ID\",\"Is_Lead\"]\n",
        "print(df_pred_xg.head())\n",
        "df_pred_xg.to_csv(\"Credit_Card_Lead_Predictions_final_xg.csv\",index=False)\n",
        "\n",
        "#Saving ID  and prediction to csv file for LGB Model\n",
        "df_pred_lgb=pd.concat([df_test[\"ID\"],lead_pred_lgb],axis=1,ignore_index=True)\n",
        "df_pred_lgb.columns = [\"ID\",\"Is_Lead\"]\n",
        "print(df_pred_lgb.head())\n",
        "df_pred_lgb.to_csv(\"Credit_Card_Lead_Predictions_final_lgb.csv\",index=False)\n",
        "\n",
        "#Saving ID  and prediction to csv file for RF model\n",
        "df_pred_rf=pd.concat([df_test[\"ID\"],lead_pred_rf],axis=1,ignore_index=True)\n",
        "df_pred_rf.columns = [\"ID\",\"Is_Lead\"]\n",
        "print(df_pred_rf.head())\n",
        "df_pred_rf.to_csv(\"Credit_Card_Lead_Predictions_final_rf.csv\",index=False)"
      ],
      "execution_count": 58,
      "outputs": [
        {
          "output_type": "stream",
          "name": "stdout",
          "text": [
            "         ID   Is_Lead\n",
            "0  VBENBARO  0.150221\n",
            "1  CCMEWNKY  0.939594\n",
            "2  VK3KGA9M  0.153038\n",
            "3  TT8RPZVC  0.070754\n",
            "4  SHQZEYTZ  0.075830\n",
            "         ID   Is_Lead\n",
            "0  VBENBARO  0.138250\n",
            "1  CCMEWNKY  0.940820\n",
            "2  VK3KGA9M  0.138577\n",
            "3  TT8RPZVC  0.083907\n",
            "4  SHQZEYTZ  0.056498\n",
            "         ID  Is_Lead\n",
            "0  VBENBARO     0.17\n",
            "1  CCMEWNKY     0.97\n",
            "2  VK3KGA9M     0.09\n",
            "3  TT8RPZVC     0.12\n",
            "4  SHQZEYTZ     0.09\n"
          ]
        }
      ]
    },
    {
      "cell_type": "markdown",
      "metadata": {
        "id": "pp_azSx4Nac1"
      },
      "source": [
        "Saving the model"
      ]
    },
    {
      "cell_type": "code",
      "metadata": {
        "colab": {
          "base_uri": "https://localhost:8080/"
        },
        "id": "wkmKdI0PNWbN",
        "outputId": "d170fc39-31eb-41a0-f485-5a6b0fea3b4e"
      },
      "source": [
        "import joblib\n",
        "#save the model as a pickle in a file \n",
        "joblib.dump(lgb_model,'lgb_model.pkl')"
      ],
      "execution_count": 59,
      "outputs": [
        {
          "output_type": "execute_result",
          "data": {
            "text/plain": [
              "['lgb_model.pkl']"
            ]
          },
          "metadata": {},
          "execution_count": 59
        }
      ]
    }
  ]
}